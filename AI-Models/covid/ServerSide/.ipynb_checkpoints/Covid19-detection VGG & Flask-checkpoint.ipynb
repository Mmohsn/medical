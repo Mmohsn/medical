{
 "cells": [
  {
   "cell_type": "markdown",
   "id": "35b2c280",
   "metadata": {},
   "source": [
    "## Libraries"
   ]
  },
  {
   "cell_type": "code",
   "execution_count": 9,
   "id": "93a5ae98",
   "metadata": {},
   "outputs": [],
   "source": [
    "from tensorflow import keras\n",
    "#import cv2\n",
    "from keras.preprocessing import image\n",
    "import numpy as np\n",
    "from flask import Flask , request"
   ]
  },
  {
   "cell_type": "markdown",
   "id": "d2a8e8bc",
   "metadata": {},
   "source": [
    "## Load Keras Model"
   ]
  },
  {
   "cell_type": "code",
   "execution_count": 10,
   "id": "13628fa0",
   "metadata": {},
   "outputs": [],
   "source": [
    "# Load saved model\n",
    "model = keras.models.load_model('saved-model/covid_vgg1.h5')"
   ]
  },
  {
   "cell_type": "markdown",
   "id": "e536f535",
   "metadata": {},
   "source": [
    "## Image Read & Resize Function"
   ]
  },
  {
   "cell_type": "code",
   "execution_count": 11,
   "id": "e6e0ac17",
   "metadata": {},
   "outputs": [],
   "source": [
    "def read_img(img_path):\n",
    "    img = image.load_img(img_path, target_size = (224, 224)) \n",
    "    img = image.img_to_array(img)\n",
    "    img = np.expand_dims(img, axis = 0)\n",
    "    return img"
   ]
  },
  {
   "cell_type": "markdown",
   "id": "dd62e07a",
   "metadata": {},
   "source": [
    "## Test Model"
   ]
  },
  {
   "cell_type": "code",
   "execution_count": 12,
   "id": "76c55908",
   "metadata": {},
   "outputs": [
    {
     "data": {
      "text/plain": [
       "'Your X-Ray is Normal'"
      ]
     },
     "execution_count": 12,
     "metadata": {},
     "output_type": "execute_result"
    }
   ],
   "source": [
    "#Prediction\n",
    "img = read_img(\"data/0105.jpeg\")\n",
    "res = model.predict(img)\n",
    "\n",
    "classes = ['Covid Detection' , 'Your X-Ray is Normal' , 'Your X-Ray Contain Viral Pneumonia']\n",
    "MaxPosition=np.argmax(res)  \n",
    "prediction_label=classes[MaxPosition]\n",
    "prediction_label"
   ]
  },
  {
   "cell_type": "markdown",
   "id": "12440052",
   "metadata": {},
   "source": [
    "## Classify images Function for its Class"
   ]
  },
  {
   "cell_type": "code",
   "execution_count": 13,
   "id": "a2833369",
   "metadata": {},
   "outputs": [],
   "source": [
    "def classify_img(img_path):\n",
    "    img = read_img(img_path)\n",
    "    res = model.predict(img)\n",
    "    classes = ['Covid Detection' , 'Your X-Ray is Normal' , 'Your X-Ray Contain Viral Pneumonia']\n",
    "    MaxPosition=np.argmax(res)  \n",
    "    prediction_label=classes[MaxPosition]\n",
    "    return prediction_label"
   ]
  },
  {
   "cell_type": "markdown",
   "id": "b2d50337",
   "metadata": {},
   "source": [
    "## Build Flask API"
   ]
  },
  {
   "cell_type": "code",
   "execution_count": 14,
   "id": "87f696a4",
   "metadata": {},
   "outputs": [
    {
     "name": "stdout",
     "output_type": "stream",
     "text": [
      " * Serving Flask app '__main__' (lazy loading)\n",
      " * Environment: production\n",
      "\u001b[31m   WARNING: This is a development server. Do not use it in a production deployment.\u001b[0m\n",
      "\u001b[2m   Use a production WSGI server instead.\u001b[0m\n",
      " * Debug mode: off\n"
     ]
    },
    {
     "name": "stderr",
     "output_type": "stream",
     "text": [
      " * Running on http://127.0.0.1:9000/ (Press CTRL+C to quit)\n",
      "127.0.0.1 - - [23/Sep/2021 14:19:51] \"POST /covid HTTP/1.1\" 200 -\n"
     ]
    },
    {
     "name": "stdout",
     "output_type": "stream",
     "text": [
      "img path: C:/xampp/htdocs/_MedicalTraining/project/AI-Models/covid/ClientSide/covid-images/1632399590969985447614c70e6374c9.jpeg\n",
      "prediction: Your X-Ray is Normal\n"
     ]
    },
    {
     "name": "stderr",
     "output_type": "stream",
     "text": [
      "127.0.0.1 - - [23/Sep/2021 14:20:13] \"POST /covid HTTP/1.1\" 200 -\n"
     ]
    },
    {
     "name": "stdout",
     "output_type": "stream",
     "text": [
      "img path: C:/xampp/htdocs/_MedicalTraining/project/AI-Models/covid/ClientSide/covid-images/16323996111343748221614c70fbda4c0.jpeg\n",
      "prediction: Your X-Ray is Normal\n"
     ]
    },
    {
     "name": "stderr",
     "output_type": "stream",
     "text": [
      "127.0.0.1 - - [23/Sep/2021 14:20:39] \"POST /covid HTTP/1.1\" 200 -\n"
     ]
    },
    {
     "name": "stdout",
     "output_type": "stream",
     "text": [
      "img path: C:/xampp/htdocs/_MedicalTraining/project/AI-Models/covid/ClientSide/covid-images/1632399637512374645614c71157149f.jpeg\n",
      "prediction: Your X-Ray Contain Viral Pneumonia\n"
     ]
    },
    {
     "name": "stderr",
     "output_type": "stream",
     "text": [
      "127.0.0.1 - - [23/Sep/2021 14:21:03] \"POST /covid HTTP/1.1\" 200 -\n"
     ]
    },
    {
     "name": "stdout",
     "output_type": "stream",
     "text": [
      "img path: C:/xampp/htdocs/_MedicalTraining/project/AI-Models/covid/ClientSide/covid-images/1632399662718718983614c712e1c829.jpeg\n",
      "prediction: Your X-Ray Contain Viral Pneumonia\n"
     ]
    },
    {
     "name": "stderr",
     "output_type": "stream",
     "text": [
      "127.0.0.1 - - [23/Sep/2021 14:21:15] \"POST /covid HTTP/1.1\" 200 -\n"
     ]
    },
    {
     "name": "stdout",
     "output_type": "stream",
     "text": [
      "img path: C:/xampp/htdocs/_MedicalTraining/project/AI-Models/covid/ClientSide/covid-images/16323996731755953328614c7139aefcd.jpeg\n",
      "prediction: Your X-Ray Contain Viral Pneumonia\n"
     ]
    },
    {
     "name": "stderr",
     "output_type": "stream",
     "text": [
      "127.0.0.1 - - [23/Sep/2021 14:21:25] \"POST /covid HTTP/1.1\" 200 -\n"
     ]
    },
    {
     "name": "stdout",
     "output_type": "stream",
     "text": [
      "img path: C:/xampp/htdocs/_MedicalTraining/project/AI-Models/covid/ClientSide/covid-images/16323996831613664232614c714378741.jpg\n",
      "prediction: Covid Detection\n"
     ]
    },
    {
     "name": "stderr",
     "output_type": "stream",
     "text": [
      "127.0.0.1 - - [23/Sep/2021 14:29:17] \"POST /covid HTTP/1.1\" 200 -\n"
     ]
    },
    {
     "name": "stdout",
     "output_type": "stream",
     "text": [
      "img path: C:/xampp/htdocs/_MedicalTraining/project/AI-Models/covid/ClientSide/covid-images/1632400155117840764614c731b46577.jpg\n",
      "prediction: Covid Detection\n"
     ]
    }
   ],
   "source": [
    "app = Flask(__name__)\n",
    "\n",
    "@app.route('/covid' , methods = ['POST'])\n",
    "def covid_pred():\n",
    "    img_path = request.form['path']\n",
    "    y_pred = classify_img(img_path)\n",
    "    print('img path:' , img_path)\n",
    "    print('prediction:' , y_pred)\n",
    "    return { \"Prediction is:\": y_pred}\n",
    "app.run(port=9000)"
   ]
  },
  {
   "cell_type": "code",
   "execution_count": null,
   "id": "9e7181b5",
   "metadata": {},
   "outputs": [],
   "source": []
  }
 ],
 "metadata": {
  "kernelspec": {
   "display_name": "Python 3 (ipykernel)",
   "language": "python",
   "name": "python3"
  },
  "language_info": {
   "codemirror_mode": {
    "name": "ipython",
    "version": 3
   },
   "file_extension": ".py",
   "mimetype": "text/x-python",
   "name": "python",
   "nbconvert_exporter": "python",
   "pygments_lexer": "ipython3",
   "version": "3.9.7"
  }
 },
 "nbformat": 4,
 "nbformat_minor": 5
}
